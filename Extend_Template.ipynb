{
 "cells": [
  {
   "cell_type": "markdown",
   "id": "bac27d6b",
   "metadata": {},
   "source": [
    "# Guide to Template Extension"
   ]
  },
  {
   "cell_type": "markdown",
   "id": "initial_id",
   "metadata": {
    "collapsed": true,
    "jupyter": {
     "is_executing": true
    }
   },
   "source": [
    "In this guide, we will describe the changes which need to be made in order to extend the cookiecutter template to allow for the creation of new pysteps plugins."
   ]
  },
  {
   "cell_type": "markdown",
   "id": "0f284ad1",
   "metadata": {},
   "source": [
    "## Changes to Pysteps"
   ]
  },
  {
   "cell_type": "markdown",
   "id": "bb321295",
   "metadata": {},
   "source": [
    "### Step 1: Creating the interface"
   ]
  },
  {
   "cell_type": "markdown",
   "id": "ddaf7d16",
   "metadata": {},
   "source": [
    "If there does not yet exist an interface for the type of the desired plugin (i.e io, postprocessing, nowcasts, etc) in the pysteps library, then this file must be created. The interface file should be in the .py format. \n",
    "This interface must contain several key things:\n",
    "1) Dictionaries for each plugin subtype\n",
    "2) A discover_plugins() function to detect newly available plugins\n",
    "3) A plugins_info() function to evaluate which plugins are available\n",
    "4) A get_method() function to return a callable function for each given function name"
   ]
  },
  {
   "cell_type": "markdown",
   "id": "02815fe5",
   "metadata": {},
   "source": [
    "Examples of these interfaces can be seen in the pysteps/io/interface.py and pysteps/postprocessing/interface.py file."
   ]
  },
  {
   "cell_type": "markdown",
   "id": "b4c34b86",
   "metadata": {},
   "source": [
    "### Step 2: Adjust the \\_\\_init\\_\\_ files"
   ]
  },
  {
   "cell_type": "markdown",
   "id": "784041a1",
   "metadata": {},
   "source": [
    "The \\_\\_init\\_\\_ file for the type of the desired plugin must be adjusted to import the new interface.\n",
    "The \\_\\_init\\_\\_ file for pysteps itself (pysteps/\\_\\_init\\_\\_.py) must also be adjusted to import the discover_plugins() function from the new interface."
   ]
  },
  {
   "cell_type": "markdown",
   "id": "1494c05f",
   "metadata": {},
   "source": [
    "### Step 3: Create a file for the plugin subtype"
   ]
  },
  {
   "cell_type": "markdown",
   "id": "a83509f8",
   "metadata": {},
   "source": [
    "If the type of the plugin already exists but a new subtype is required, then a new python file must be created to store the functions of the new plugins (e.g expand the io plugins to include the subtype exporters by creating a new file pysteps/io/exporters.py). The functions from this file will also need to be imported in the \\_\\_init\\_\\_ file for the module, and a dictionary to handle the subtype plugin methods will need to be added to the module interface."
   ]
  },
  {
   "cell_type": "markdown",
   "id": "d1ca9a58",
   "metadata": {},
   "source": [
    "## Changes to cookiecutter-pysteps-plugin"
   ]
  },
  {
   "cell_type": "markdown",
   "id": "a6b23162",
   "metadata": {},
   "source": [
    "### Step 1: Change the default template options"
   ]
  },
  {
   "cell_type": "markdown",
   "id": "f44fbdd3",
   "metadata": {},
   "source": [
    "The user input options will need to be updated to include the new plugin type/subtype.\n",
    "- Open the cookiecutter.json file.\n",
    "- Add any new plugin type as an option to the plugin_type input parameter list.\n",
    "- Add any new plugin subtypes as part of the if/elif/else statement in the plugin_subtype input parameter."
   ]
  },
  {
   "cell_type": "markdown",
   "id": "d858f101",
   "metadata": {},
   "source": [
    "### Step 2: Update the README file"
   ]
  },
  {
   "cell_type": "markdown",
   "id": "7f3f38a0",
   "metadata": {},
   "source": [
    "Update the README file to include the new plugin information"
   ]
  },
  {
   "cell_type": "markdown",
   "id": "2f802d2c",
   "metadata": {},
   "source": [
    "### Step 3: Create a new type folder"
   ]
  },
  {
   "cell_type": "markdown",
   "id": "8737671e",
   "metadata": {},
   "source": [
    "If a new plugin type is required, create a new folder {{cookiecutter.project_name}}/{{cookiecutter.project_slug}}.plugin_type.\n",
    "Within this folder create two python files:\n",
    "1. {{cookiecutter.plugin_name}}.py.\n",
    "    - This file will contain the default function layout for all plugins of this type.\n",
    "    - This file can be copied almost directly from {{cookiecutter.project_name}}/{{cookiecutter.project_slug}}.postrocessor. The only adjustments which need to be made are changing the input and output variables of the function to better match a what is required from this type of plugin.\n",
    "2. \\_\\_init\\_\\_.py\n",
    "    - This file will import the functions from the {{cookiecutter.plugin_name}} file"
   ]
  },
  {
   "cell_type": "markdown",
   "id": "860ad9d0",
   "metadata": {},
   "source": [
    "### Step 4: Update the tests"
   ]
  },
  {
   "cell_type": "markdown",
   "id": "d92c2e5d",
   "metadata": {},
   "source": [
    "Update the if/else loop in the test_plugins_discovery() (found in tests/test_{{cookiecutter}}) to include the new plugin type/subtype."
   ]
  },
  {
   "cell_type": "markdown",
   "id": "c4a40759",
   "metadata": {},
   "source": [
    "### Step 5: Create an example file for your plugin type. \n",
    "Store this file in docs.filname.                                                                                                rd"
   ]
  },
  {
   "cell_type": "markdown",
   "id": "fdda04de",
   "metadata": {},
   "source": [
    "And then you should be good to go. Simply open your terminal and run cookiecutter followed by https://github.com/pySTEPS/cookiecutter-pysteps-plugin/ to create your new plugin template."
   ]
  }
 ],
 "metadata": {
  "kernelspec": {
   "display_name": "Python 3",
   "language": "python",
   "name": "python3"
  },
  "language_info": {
   "codemirror_mode": {
    "name": "ipython",
    "version": 3
   },
   "file_extension": ".py",
   "mimetype": "text/x-python",
   "name": "python",
   "nbconvert_exporter": "python",
   "pygments_lexer": "ipython3",
   "version": "3.11.9"
  }
 },
 "nbformat": 4,
 "nbformat_minor": 5
}
